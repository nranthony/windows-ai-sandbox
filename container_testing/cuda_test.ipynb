{
 "cells": [
  {
   "cell_type": "markdown",
   "id": "a0d0ebdf",
   "metadata": {},
   "source": [
    "# Minimal PyTorch CUDA Test"
   ]
  },
  {
   "cell_type": "code",
   "execution_count": 25,
   "id": "54d77b20",
   "metadata": {},
   "outputs": [
    {
     "name": "stdout",
     "output_type": "stream",
     "text": [
      "CUDA available:  True\n"
     ]
    }
   ],
   "source": [
    "import torch\n",
    "from torch import nn\n",
    "from torch.utils.data import DataLoader\n",
    "from torchvision import datasets\n",
    "from torchvision.transforms import ToTensor\n",
    "\n",
    "print(\"CUDA available: \", torch.cuda.is_available())"
   ]
  },
  {
   "cell_type": "code",
   "execution_count": 26,
   "id": "87a3b418",
   "metadata": {},
   "outputs": [],
   "source": [
    "# Download training data from open datasets.\n",
    "training_data = datasets.FashionMNIST(\n",
    "    root=\"data\",\n",
    "    train=True,\n",
    "    download=True,\n",
    "    transform=ToTensor(),\n",
    ")\n",
    "\n",
    "# Download test data from open datasets.\n",
    "test_data = datasets.FashionMNIST(\n",
    "    root=\"data\",\n",
    "    train=False,\n",
    "    download=True,\n",
    "    transform=ToTensor(),\n",
    ")"
   ]
  },
  {
   "cell_type": "code",
   "execution_count": 27,
   "id": "aca42fdf",
   "metadata": {},
   "outputs": [
    {
     "name": "stdout",
     "output_type": "stream",
     "text": [
      "Shape of X [N, C, H, W]: torch.Size([256, 1, 28, 28])\n",
      "Shape of y: torch.Size([256]) torch.int64\n"
     ]
    }
   ],
   "source": [
    "batch_size = 256\n",
    "\n",
    "# Create data loaders.\n",
    "train_dataloader = DataLoader(training_data, batch_size=batch_size, pin_memory=True)\n",
    "test_dataloader = DataLoader(test_data, batch_size=batch_size, pin_memory=True)\n",
    "\n",
    "for X, y in test_dataloader:\n",
    "    print(f\"Shape of X [N, C, H, W]: {X.shape}\")\n",
    "    print(f\"Shape of y: {y.shape} {y.dtype}\")\n",
    "    break"
   ]
  },
  {
   "cell_type": "code",
   "execution_count": null,
   "id": "8f9e2acd",
   "metadata": {},
   "outputs": [
    {
     "name": "stdout",
     "output_type": "stream",
     "text": [
      "Using cpu device\n",
      "NeuralNetwork(\n",
      "  (flatten): Flatten(start_dim=1, end_dim=-1)\n",
      "  (linear_relu_stack): Sequential(\n",
      "    (0): Linear(in_features=784, out_features=512, bias=True)\n",
      "    (1): ReLU()\n",
      "    (2): Linear(in_features=512, out_features=512, bias=True)\n",
      "    (3): ReLU()\n",
      "    (4): Linear(in_features=512, out_features=10, bias=True)\n",
      "  )\n",
      ")\n"
     ]
    }
   ],
   "source": [
    "device = torch.accelerator.current_accelerator().type if torch.accelerator.is_available() else \"cpu\"\n",
    "# device = \"cpu\"\n",
    "print(f\"Using {device} device\")\n",
    "\n",
    "# Define model\n",
    "class NeuralNetwork(nn.Module):\n",
    "    def __init__(self):\n",
    "        super().__init__()\n",
    "        self.flatten = nn.Flatten()\n",
    "        self.linear_relu_stack = nn.Sequential(\n",
    "            nn.Linear(28*28, 512),\n",
    "            nn.ReLU(),\n",
    "            nn.Linear(512, 512),\n",
    "            nn.ReLU(),\n",
    "            nn.Linear(512, 10)\n",
    "        )\n",
    "\n",
    "    def forward(self, x):\n",
    "        x = self.flatten(x)\n",
    "        logits = self.linear_relu_stack(x)\n",
    "        return logits\n",
    "\n",
    "model = NeuralNetwork().to(device)\n",
    "print(model)"
   ]
  },
  {
   "cell_type": "code",
   "execution_count": 29,
   "id": "cf6717f3",
   "metadata": {},
   "outputs": [],
   "source": [
    "loss_fn = nn.CrossEntropyLoss()\n",
    "optimizer = torch.optim.SGD(model.parameters(), lr=4e-3)"
   ]
  },
  {
   "cell_type": "code",
   "execution_count": 30,
   "id": "022e305e",
   "metadata": {},
   "outputs": [],
   "source": [
    "def train(dataloader, model, loss_fn, optimizer):\n",
    "    size = len(dataloader.dataset)\n",
    "    model.train()\n",
    "    for batch, (X, y) in enumerate(dataloader):\n",
    "        X, y = X.to(device), y.to(device)\n",
    "\n",
    "        # Compute prediction error\n",
    "        pred = model(X)\n",
    "        loss = loss_fn(pred, y)\n",
    "\n",
    "        # Backpropagation\n",
    "        loss.backward()\n",
    "        optimizer.step()\n",
    "        optimizer.zero_grad()\n",
    "\n",
    "        if batch % 100 == 0:\n",
    "            loss, current = loss.item(), (batch + 1) * len(X)\n",
    "            print(f\"loss: {loss:>7f}  [{current:>5d}/{size:>5d}]\")"
   ]
  },
  {
   "cell_type": "code",
   "execution_count": 31,
   "id": "1d06f8cc",
   "metadata": {},
   "outputs": [],
   "source": [
    "def test(dataloader, model, loss_fn):\n",
    "    size = len(dataloader.dataset)\n",
    "    num_batches = len(dataloader)\n",
    "    model.eval()\n",
    "    test_loss, correct = 0, 0\n",
    "    with torch.no_grad():\n",
    "        for X, y in dataloader:\n",
    "            X, y = X.to(device), y.to(device)\n",
    "            pred = model(X)\n",
    "            test_loss += loss_fn(pred, y).item()\n",
    "            correct += (pred.argmax(1) == y).type(torch.float).sum().item()\n",
    "    test_loss /= num_batches\n",
    "    correct /= size\n",
    "    print(f\"Test Error: \\n Accuracy: {(100*correct):>0.1f}%, Avg loss: {test_loss:>8f} \\n\")"
   ]
  },
  {
   "cell_type": "code",
   "execution_count": 32,
   "id": "02bc361d",
   "metadata": {},
   "outputs": [
    {
     "name": "stdout",
     "output_type": "stream",
     "text": [
      "Epoch 1\n",
      "-------------------------------\n"
     ]
    },
    {
     "name": "stdout",
     "output_type": "stream",
     "text": [
      "loss: 2.297653  [  256/60000]\n",
      "loss: 2.244598  [25856/60000]\n",
      "loss: 2.187732  [51456/60000]\n",
      "Test Error: \n",
      " Accuracy: 48.4%, Avg loss: 2.159086 \n",
      "\n",
      "Epoch 2\n",
      "-------------------------------\n",
      "loss: 2.158942  [  256/60000]\n",
      "loss: 2.069722  [25856/60000]\n",
      "loss: 1.962393  [51456/60000]\n",
      "Test Error: \n",
      " Accuracy: 56.7%, Avg loss: 1.905805 \n",
      "\n",
      "Epoch 3\n",
      "-------------------------------\n",
      "loss: 1.909588  [  256/60000]\n",
      "loss: 1.739509  [25856/60000]\n",
      "loss: 1.600442  [51456/60000]\n",
      "Test Error: \n",
      " Accuracy: 60.8%, Avg loss: 1.532914 \n",
      "\n",
      "Epoch 4\n",
      "-------------------------------\n",
      "loss: 1.538623  [  256/60000]\n",
      "loss: 1.384882  [25856/60000]\n",
      "loss: 1.302276  [51456/60000]\n",
      "Test Error: \n",
      " Accuracy: 63.3%, Avg loss: 1.253964 \n",
      "\n",
      "Epoch 5\n",
      "-------------------------------\n",
      "loss: 1.255544  [  256/60000]\n",
      "loss: 1.146923  [25856/60000]\n",
      "loss: 1.116596  [51456/60000]\n",
      "Test Error: \n",
      " Accuracy: 64.6%, Avg loss: 1.082265 \n",
      "\n",
      "Epoch 6\n",
      "-------------------------------\n",
      "loss: 1.082077  [  256/60000]\n",
      "loss: 0.998020  [25856/60000]\n",
      "loss: 0.998004  [51456/60000]\n",
      "Test Error: \n",
      " Accuracy: 65.6%, Avg loss: 0.973274 \n",
      "\n",
      "Epoch 7\n",
      "-------------------------------\n",
      "loss: 0.972754  [  256/60000]\n",
      "loss: 0.901571  [25856/60000]\n",
      "loss: 0.917565  [51456/60000]\n",
      "Test Error: \n",
      " Accuracy: 66.8%, Avg loss: 0.900379 \n",
      "\n",
      "Epoch 8\n",
      "-------------------------------\n",
      "loss: 0.899544  [  256/60000]\n",
      "loss: 0.835584  [25856/60000]\n",
      "loss: 0.860308  [51456/60000]\n",
      "Test Error: \n",
      " Accuracy: 68.0%, Avg loss: 0.849069 \n",
      "\n",
      "Epoch 9\n",
      "-------------------------------\n",
      "loss: 0.847146  [  256/60000]\n",
      "loss: 0.787845  [25856/60000]\n",
      "loss: 0.817690  [51456/60000]\n",
      "Test Error: \n",
      " Accuracy: 69.2%, Avg loss: 0.810807 \n",
      "\n",
      "Epoch 10\n",
      "-------------------------------\n",
      "loss: 0.807088  [  256/60000]\n",
      "loss: 0.751205  [25856/60000]\n",
      "loss: 0.784427  [51456/60000]\n",
      "Test Error: \n",
      " Accuracy: 70.4%, Avg loss: 0.780622 \n",
      "\n",
      "Done!\n"
     ]
    }
   ],
   "source": [
    "epochs = 10\n",
    "for t in range(epochs):\n",
    "    print(f\"Epoch {t+1}\\n-------------------------------\")\n",
    "    train(train_dataloader, model, loss_fn, optimizer)\n",
    "    test(test_dataloader, model, loss_fn)\n",
    "print(\"Done!\")"
   ]
  }
 ],
 "metadata": {
  "kernelspec": {
   "display_name": "myenv",
   "language": "python",
   "name": "python3"
  },
  "language_info": {
   "codemirror_mode": {
    "name": "ipython",
    "version": 3
   },
   "file_extension": ".py",
   "mimetype": "text/x-python",
   "name": "python",
   "nbconvert_exporter": "python",
   "pygments_lexer": "ipython3",
   "version": "3.12.11"
  }
 },
 "nbformat": 4,
 "nbformat_minor": 5
}
