{
 "cells": [
  {
   "cell_type": "markdown",
   "id": "a0d0ebdf",
   "metadata": {},
   "source": [
    "# Minimal PyTorch CUDA Test"
   ]
  },
  {
   "cell_type": "code",
   "execution_count": 1,
   "id": "54d77b20",
   "metadata": {},
   "outputs": [
    {
     "name": "stdout",
     "output_type": "stream",
     "text": [
      "CUDA available:  True\n"
     ]
    }
   ],
   "source": [
    "import torch\n",
    "from torch import nn\n",
    "from torch.utils.data import DataLoader\n",
    "from torchvision import datasets\n",
    "from torchvision.transforms import ToTensor\n",
    "\n",
    "print(\"CUDA available: \", torch.cuda.is_available())"
   ]
  },
  {
   "cell_type": "code",
   "execution_count": 2,
   "id": "87a3b418",
   "metadata": {},
   "outputs": [],
   "source": [
    "# Download training data from open datasets.\n",
    "training_data = datasets.FashionMNIST(\n",
    "    root=\"data\",\n",
    "    train=True,\n",
    "    download=True,\n",
    "    transform=ToTensor(),\n",
    ")\n",
    "\n",
    "# Download test data from open datasets.\n",
    "test_data = datasets.FashionMNIST(\n",
    "    root=\"data\",\n",
    "    train=False,\n",
    "    download=True,\n",
    "    transform=ToTensor(),\n",
    ")"
   ]
  },
  {
   "cell_type": "code",
   "execution_count": 3,
   "id": "aca42fdf",
   "metadata": {},
   "outputs": [
    {
     "name": "stdout",
     "output_type": "stream",
     "text": [
      "Shape of X [N, C, H, W]: torch.Size([64, 1, 28, 28])\n",
      "Shape of y: torch.Size([64]) torch.int64\n"
     ]
    }
   ],
   "source": [
    "batch_size = 64\n",
    "\n",
    "# Create data loaders.\n",
    "train_dataloader = DataLoader(training_data, batch_size=batch_size)\n",
    "test_dataloader = DataLoader(test_data, batch_size=batch_size)\n",
    "\n",
    "for X, y in test_dataloader:\n",
    "    print(f\"Shape of X [N, C, H, W]: {X.shape}\")\n",
    "    print(f\"Shape of y: {y.shape} {y.dtype}\")\n",
    "    break"
   ]
  },
  {
   "cell_type": "code",
   "execution_count": 4,
   "id": "8f9e2acd",
   "metadata": {},
   "outputs": [
    {
     "name": "stdout",
     "output_type": "stream",
     "text": [
      "Using cuda device\n",
      "NeuralNetwork(\n",
      "  (flatten): Flatten(start_dim=1, end_dim=-1)\n",
      "  (linear_relu_stack): Sequential(\n",
      "    (0): Linear(in_features=784, out_features=512, bias=True)\n",
      "    (1): ReLU()\n",
      "    (2): Linear(in_features=512, out_features=512, bias=True)\n",
      "    (3): ReLU()\n",
      "    (4): Linear(in_features=512, out_features=10, bias=True)\n",
      "  )\n",
      ")\n"
     ]
    }
   ],
   "source": [
    "device = torch.accelerator.current_accelerator().type if torch.accelerator.is_available() else \"cpu\"\n",
    "print(f\"Using {device} device\")\n",
    "\n",
    "# Define model\n",
    "class NeuralNetwork(nn.Module):\n",
    "    def __init__(self):\n",
    "        super().__init__()\n",
    "        self.flatten = nn.Flatten()\n",
    "        self.linear_relu_stack = nn.Sequential(\n",
    "            nn.Linear(28*28, 512),\n",
    "            nn.ReLU(),\n",
    "            nn.Linear(512, 512),\n",
    "            nn.ReLU(),\n",
    "            nn.Linear(512, 10)\n",
    "        )\n",
    "\n",
    "    def forward(self, x):\n",
    "        x = self.flatten(x)\n",
    "        logits = self.linear_relu_stack(x)\n",
    "        return logits\n",
    "\n",
    "model = NeuralNetwork().to(device)\n",
    "print(model)"
   ]
  },
  {
   "cell_type": "code",
   "execution_count": 5,
   "id": "cf6717f3",
   "metadata": {},
   "outputs": [],
   "source": [
    "loss_fn = nn.CrossEntropyLoss()\n",
    "optimizer = torch.optim.SGD(model.parameters(), lr=1e-3)"
   ]
  },
  {
   "cell_type": "code",
   "execution_count": 6,
   "id": "022e305e",
   "metadata": {},
   "outputs": [],
   "source": [
    "def train(dataloader, model, loss_fn, optimizer):\n",
    "    size = len(dataloader.dataset)\n",
    "    model.train()\n",
    "    for batch, (X, y) in enumerate(dataloader):\n",
    "        X, y = X.to(device), y.to(device)\n",
    "\n",
    "        # Compute prediction error\n",
    "        pred = model(X)\n",
    "        loss = loss_fn(pred, y)\n",
    "\n",
    "        # Backpropagation\n",
    "        loss.backward()\n",
    "        optimizer.step()\n",
    "        optimizer.zero_grad()\n",
    "\n",
    "        if batch % 100 == 0:\n",
    "            loss, current = loss.item(), (batch + 1) * len(X)\n",
    "            print(f\"loss: {loss:>7f}  [{current:>5d}/{size:>5d}]\")"
   ]
  },
  {
   "cell_type": "code",
   "execution_count": 7,
   "id": "1d06f8cc",
   "metadata": {},
   "outputs": [],
   "source": [
    "def test(dataloader, model, loss_fn):\n",
    "    size = len(dataloader.dataset)\n",
    "    num_batches = len(dataloader)\n",
    "    model.eval()\n",
    "    test_loss, correct = 0, 0\n",
    "    with torch.no_grad():\n",
    "        for X, y in dataloader:\n",
    "            X, y = X.to(device), y.to(device)\n",
    "            pred = model(X)\n",
    "            test_loss += loss_fn(pred, y).item()\n",
    "            correct += (pred.argmax(1) == y).type(torch.float).sum().item()\n",
    "    test_loss /= num_batches\n",
    "    correct /= size\n",
    "    print(f\"Test Error: \\n Accuracy: {(100*correct):>0.1f}%, Avg loss: {test_loss:>8f} \\n\")"
   ]
  },
  {
   "cell_type": "code",
   "execution_count": 8,
   "id": "02bc361d",
   "metadata": {},
   "outputs": [
    {
     "name": "stdout",
     "output_type": "stream",
     "text": [
      "Epoch 1\n",
      "-------------------------------\n",
      "loss: 2.316840  [   64/60000]\n",
      "loss: 2.292931  [ 6464/60000]\n",
      "loss: 2.278927  [12864/60000]\n",
      "loss: 2.265695  [19264/60000]\n",
      "loss: 2.246503  [25664/60000]\n",
      "loss: 2.225610  [32064/60000]\n",
      "loss: 2.227568  [38464/60000]\n",
      "loss: 2.201488  [44864/60000]\n",
      "loss: 2.194833  [51264/60000]\n",
      "loss: 2.162231  [57664/60000]\n",
      "Test Error: \n",
      " Accuracy: 45.7%, Avg loss: 2.158734 \n",
      "\n",
      "Epoch 2\n",
      "-------------------------------\n",
      "loss: 2.178399  [   64/60000]\n",
      "loss: 2.157902  [ 6464/60000]\n",
      "loss: 2.106974  [12864/60000]\n",
      "loss: 2.114693  [19264/60000]\n",
      "loss: 2.066280  [25664/60000]\n",
      "loss: 2.011675  [32064/60000]\n",
      "loss: 2.028809  [38464/60000]\n",
      "loss: 1.961776  [44864/60000]\n",
      "loss: 1.957153  [51264/60000]\n",
      "loss: 1.886018  [57664/60000]\n",
      "Test Error: \n",
      " Accuracy: 51.9%, Avg loss: 1.890272 \n",
      "\n",
      "Epoch 3\n",
      "-------------------------------\n",
      "loss: 1.928423  [   64/60000]\n",
      "loss: 1.892751  [ 6464/60000]\n",
      "loss: 1.777454  [12864/60000]\n",
      "loss: 1.811158  [19264/60000]\n",
      "loss: 1.719312  [25664/60000]\n",
      "loss: 1.656669  [32064/60000]\n",
      "loss: 1.672344  [38464/60000]\n",
      "loss: 1.586970  [44864/60000]\n",
      "loss: 1.604433  [51264/60000]\n",
      "loss: 1.497847  [57664/60000]\n",
      "Test Error: \n",
      " Accuracy: 60.4%, Avg loss: 1.524383 \n",
      "\n",
      "Epoch 4\n",
      "-------------------------------\n",
      "loss: 1.590396  [   64/60000]\n",
      "loss: 1.554257  [ 6464/60000]\n",
      "loss: 1.403894  [12864/60000]\n",
      "loss: 1.475933  [19264/60000]\n",
      "loss: 1.376503  [25664/60000]\n",
      "loss: 1.347820  [32064/60000]\n",
      "loss: 1.361740  [38464/60000]\n",
      "loss: 1.295839  [44864/60000]\n",
      "loss: 1.325778  [51264/60000]\n",
      "loss: 1.226440  [57664/60000]\n",
      "Test Error: \n",
      " Accuracy: 63.6%, Avg loss: 1.258049 \n",
      "\n",
      "Epoch 5\n",
      "-------------------------------\n",
      "loss: 1.331433  [   64/60000]\n",
      "loss: 1.312035  [ 6464/60000]\n",
      "loss: 1.145804  [12864/60000]\n",
      "loss: 1.254377  [19264/60000]\n",
      "loss: 1.146280  [25664/60000]\n",
      "loss: 1.147295  [32064/60000]\n",
      "loss: 1.169371  [38464/60000]\n",
      "loss: 1.115000  [44864/60000]\n",
      "loss: 1.150300  [51264/60000]\n",
      "loss: 1.067173  [57664/60000]\n",
      "Test Error: \n",
      " Accuracy: 64.7%, Avg loss: 1.091583 \n",
      "\n",
      "Done!\n"
     ]
    }
   ],
   "source": [
    "epochs = 5\n",
    "for t in range(epochs):\n",
    "    print(f\"Epoch {t+1}\\n-------------------------------\")\n",
    "    train(train_dataloader, model, loss_fn, optimizer)\n",
    "    test(test_dataloader, model, loss_fn)\n",
    "print(\"Done!\")"
   ]
  }
 ],
 "metadata": {
  "kernelspec": {
   "display_name": "myenv",
   "language": "python",
   "name": "python3"
  },
  "language_info": {
   "codemirror_mode": {
    "name": "ipython",
    "version": 3
   },
   "file_extension": ".py",
   "mimetype": "text/x-python",
   "name": "python",
   "nbconvert_exporter": "python",
   "pygments_lexer": "ipython3",
   "version": "3.12.11"
  }
 },
 "nbformat": 4,
 "nbformat_minor": 5
}
